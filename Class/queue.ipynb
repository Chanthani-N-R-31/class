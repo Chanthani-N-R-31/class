{
 "cells": [
  {
   "cell_type": "code",
   "execution_count": 8,
   "metadata": {},
   "outputs": [
    {
     "name": "stdout",
     "output_type": "stream",
     "text": [
      "Queue before deleting\n",
      "10\n",
      "22\n",
      "11\n",
      "44\n",
      "56\n",
      "Queue after delteing\n",
      "22\n",
      "11\n",
      "44\n",
      "56\n"
     ]
    }
   ],
   "source": [
    "\n",
    "''''Alogorithem number : 2\n",
    "    Alogorithem name: \"Queue\"\n",
    "    script author : Chanthani N R'''\n",
    "    \n",
    "#create a queue using  class\n",
    "class Queue(object):\n",
    "    #assign a variablr\n",
    "    Queue_IT=[]\n",
    "    '''define a function to add elements in stack using append operatiom'''\n",
    "    def insert(self,info:object):\n",
    "        self.Queue_IT.append(info)\n",
    "        '''define a function to delete the first elememt in the queue using pop function'''\n",
    "    def delet(self):\n",
    "        self.Queue_IT.pop(0)\n",
    "        '''define a functuin to dispaly the elements in the queue using for loop to iiterate the value and display each element'''\n",
    "    def dis(self):\n",
    "        for info in self.Queue_IT:\n",
    "            print(info)\n",
    "def QUEUE():\n",
    "    a=Queue()\n",
    "    #add the values using the functio n called inside the queue\n",
    "    a.insert(10)\n",
    "    a.insert(22)\n",
    "    a.insert(11)\n",
    "    a.insert(44)\n",
    "    a.insert(56)\n",
    "    print(\"Queue before deleting\")\n",
    "    #display elements in the queue\n",
    "    a.dis()\n",
    "    #delete the first element in the queue\n",
    "    a.delet()\n",
    "    #print and dispaly the elemets after deleting the first element\n",
    "    print(\"Queue after delteing\")\n",
    "    a.dis()\n",
    "QUEUE()\n",
    "    "
   ]
  }
 ],
 "metadata": {
  "kernelspec": {
   "display_name": "Python 3",
   "language": "python",
   "name": "python3"
  },
  "language_info": {
   "codemirror_mode": {
    "name": "ipython",
    "version": 3
   },
   "file_extension": ".py",
   "mimetype": "text/x-python",
   "name": "python",
   "nbconvert_exporter": "python",
   "pygments_lexer": "ipython3",
   "version": "3.12.4"
  }
 },
 "nbformat": 4,
 "nbformat_minor": 2
}
